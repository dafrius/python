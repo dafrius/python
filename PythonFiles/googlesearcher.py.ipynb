{
 "cells": [
  {
   "cell_type": "markdown",
   "metadata": {},
   "source": [
    "__This is to make a google search__"
   ]
  },
  {
   "cell_type": "code",
   "execution_count": 6,
   "metadata": {},
   "outputs": [
    {
     "name": "stdout",
     "output_type": "stream",
     "text": [
      "Enter search query: What's uuuuuuuuuup\n"
     ]
    },
    {
     "data": {
      "text/plain": [
       "True"
      ]
     },
     "execution_count": 6,
     "metadata": {},
     "output_type": "execute_result"
    }
   ],
   "source": [
    "import webbrowser\n",
    "\n",
    "new=2\n",
    "\n",
    "tabUrl=\"http://google.com/?#q=\";\n",
    "term= input(\"Enter search query: \");\n",
    "\n",
    "webbrowser.open(tabUrl+term,new=new)\n"
   ]
  },
  {
   "cell_type": "markdown",
   "metadata": {},
   "source": [
    "__This one is to install selenium__"
   ]
  },
  {
   "cell_type": "code",
   "execution_count": null,
   "metadata": {},
   "outputs": [],
   "source": [
    "pip install selenium "
   ]
  },
  {
   "cell_type": "markdown",
   "metadata": {},
   "source": [
    "__This opens Kronos, enters a username and pass, and submits login__"
   ]
  },
  {
   "cell_type": "code",
   "execution_count": 49,
   "metadata": {},
   "outputs": [],
   "source": [
    "from selenium import webdriver\n",
    "from selenium.webdriver.common.keys import Keys\n",
    "\n",
    "drv = webdriver.Chrome(executable_path='/Users/CANOLUM/Desktop/PythonFiles/WebScraping/Drivers/chromedriver')\n",
    "drv.get('https://partnershealthcare.okta.com/login/login.htm?fromURI=%2Fapp%2Fpartnershealthcare_kronos_1%2Fexk9ys4r82rIJBm1x296%2Fsso%2Fsaml')\n",
    "\n",
    "#main_window = drv.current_window_handle\n",
    "\n",
    "#this part enters username\n",
    "xpath2= '//*[@id=\"okta-signin-username\"]'\n",
    "box = drv.find_element_by_xpath(xpath2)\n",
    "box.send_keys('MUC2')\n",
    "#box.submit()\n",
    "\n",
    "#this part enters password and submits by pressing ctrl+enter. you can also sumbit by using box2.submit()\n",
    "xpath3= '//*[@id=\"okta-signin-password\"]'\n",
    "box2=drv.find_element_by_xpath(xpath3)\n",
    "box2.send_keys('Eragon93')\n",
    "#box2.submit()\n",
    "box2.send_keys(Keys.CONTROL + Keys.RETURN)\n",
    "\n",
    "#drv.switch_to.window(main_window)"
   ]
  },
  {
   "cell_type": "markdown",
   "metadata": {},
   "source": [
    "__These may be useful in the future, don't know yet.__"
   ]
  },
  {
   "cell_type": "code",
   "execution_count": null,
   "metadata": {},
   "outputs": [],
   "source": [
    "\n",
    "# def add_flash_site(drv, web_url):\n",
    "#     def expand_root_element(element):\n",
    "#         return drv.execute_script(\"return arguments[0].shadowRoot\", element)\n",
    "\n",
    "#     driver.get(\"chrome://settings/content/siteDetails?site=\" + web_url)\n",
    "#     root1 = driver.find_element(By.TAG_NAME, \"settings-ui\")\n",
    "#     shadow_root1 = expand_root_element(root1)\n",
    "#     root2 = shadow_root1.find_element(By.ID, \"container\")\n",
    "#     root3 = root2.find_element(By.ID, \"main\")\n",
    "#     shadow_root3 = expand_root_element(root3)\n",
    "#     root4 = shadow_root3.find_element(By.CLASS_NAME, \"showing-subpage\")\n",
    "#     shadow_root4 = expand_root_element(root4)\n",
    "#     root5 = shadow_root4.find_element(By.ID, \"advancedPage\")\n",
    "#     root6 = root5.find_element(By.TAG_NAME, \"settings-privacy-page\")\n",
    "#     shadow_root6 = expand_root_element(root6)\n",
    "#     root7 = shadow_root6.find_element(By.ID, \"pages\")\n",
    "#     root8 = root7.find_element(By.TAG_NAME, \"settings-subpage\")\n",
    "#     root9 = root8.find_element(By.TAG_NAME, \"site-details\")\n",
    "#     shadow_root9 = expand_root_element(root9)\n",
    "#     root10 = shadow_root9.find_element(By.ID, \"plugins\")\n",
    "#     shadow_root10 = expand_root_element(root10)\n",
    "#     root11 = shadow_root10.find_element(By.ID, \"permission\")\n",
    "#     Select(root11).select_by_value(\"allow\")\n",
    "\n",
    "#xpath5='/html/body/div/p[2]/a/img'\n",
    "#btn=drv.find_element_by_xpath(xpath5)\n",
    "#btn.click()\n",
    "\n",
    "#xpath4='//*[@id=\"okta-signin-submit\"]'\n",
    "#btn=driver.find_element_by_xpath(xpath4)\n",
    "\n",
    "#---------Single Element----------#\n",
    "#find_element_by_id\n",
    "#find_element_by_name\n",
    "#find_element_by_xpath\n",
    "#find_element_by_link_text\n",
    "#find_element_by_partial_link_text\n",
    "#find_element_by_tag_name\n",
    "#find_element_by_class_name\n",
    "#find_element_by_css_selector\n",
    "#https://gist.github.com/lrhache/7686903\n"
   ]
  },
  {
   "cell_type": "code",
   "execution_count": 28,
   "metadata": {},
   "outputs": [
    {
     "name": "stdout",
     "output_type": "stream",
     "text": [
      "2019-05-17 14:26:47.569097\n",
      "2019-05-17 14:26:47.569576\n"
     ]
    }
   ],
   "source": [
    "#datetime capture\n",
    "from datetime import datetime\n",
    "\n",
    "print(datetime.now())"
   ]
  },
  {
   "cell_type": "markdown",
   "metadata": {},
   "source": [
    "__This explains how to find xpaths by searching for a specific element.__"
   ]
  },
  {
   "cell_type": "code",
   "execution_count": 34,
   "metadata": {},
   "outputs": [],
   "source": [
    "from selenium import webdriver\n",
    "\n",
    "drv=webdriver.Chrome(executable_path='/Users/CANOLUM/Desktop/PythonFiles/WebScraping/Drivers/chromedriver')\n",
    "\n",
    "drv.get(\"https:/www.youtube.com/user/noobtoprofessional\")\n",
    "\n",
    "#after // if you put '*'', it means \"Match any element\"\n",
    "#after // if you put 'a', it means \"Match an anchor\"\n",
    "#the argument goes inside [square brackets]\n",
    "#a[contains(text(), \"\"]) actually means: \"actual anchor text itself should contain certain text\"\n",
    "\n",
    "drv.find_element_by_xpath('//a[contains(text(), \"The State of Python Programming in 2019\")]').click()\n",
    "\n",
    "\n"
   ]
  },
  {
   "cell_type": "markdown",
   "metadata": {},
   "source": [
    "__More useful stuff__"
   ]
  },
  {
   "cell_type": "code",
   "execution_count": 58,
   "metadata": {},
   "outputs": [],
   "source": [
    "#---------------Common Conditions----------#\n",
    "#title_is\n",
    "#title_contains\n",
    "#presence_of_element_located\n",
    "#visibility_of_element_located\n",
    "#visibility_of\n",
    "#presence_of_all_elements_located\n",
    "#text_to_be_present_in_element\n",
    "#text_to_be_present_in_element_value\n",
    "#frame_to_be_available_and_switch_to_it\n",
    "#invisibility_of_element_located\n",
    "#staleness_of\n",
    "#element_to_be_selected\n",
    "#element_located_to_be_selected\n",
    "#element_selection_state_to_be\n",
    "#element_located_selection_state_to_be\n",
    "#alert_is_present"
   ]
  },
  {
   "cell_type": "code",
   "execution_count": 83,
   "metadata": {},
   "outputs": [
    {
     "ename": "NoSuchElementException",
     "evalue": "Message: no such element: Unable to locate element: {\"method\":\"xpath\",\"selector\":\"//*[@id=\"messageArea\"]/div/text()\"}\n  (Session info: chrome=74.0.3729.157)\n  (Driver info: chromedriver=74.0.3729.6 (255758eccf3d244491b8a1317aa76e1ce10d57e9-refs/branch-heads/3729@{#29}),platform=Windows NT 10.0.14393 x86_64)\n",
     "output_type": "error",
     "traceback": [
      "\u001b[1;31m---------------------------------------------------------------------------\u001b[0m",
      "\u001b[1;31mNoSuchElementException\u001b[0m                    Traceback (most recent call last)",
      "\u001b[1;32m<ipython-input-83-4fe660c2ca9a>\u001b[0m in \u001b[0;36m<module>\u001b[1;34m\u001b[0m\n\u001b[0;32m     38\u001b[0m \u001b[1;33m\u001b[0m\u001b[0m\n\u001b[0;32m     39\u001b[0m \u001b[0mdrv\u001b[0m \u001b[1;33m=\u001b[0m \u001b[0minit_driver\u001b[0m\u001b[1;33m(\u001b[0m\u001b[1;33m)\u001b[0m\u001b[1;33m\u001b[0m\u001b[1;33m\u001b[0m\u001b[0m\n\u001b[1;32m---> 40\u001b[1;33m \u001b[0mget_data\u001b[0m\u001b[1;33m(\u001b[0m\u001b[0mdrv\u001b[0m\u001b[1;33m)\u001b[0m\u001b[1;33m\u001b[0m\u001b[1;33m\u001b[0m\u001b[0m\n\u001b[0m\u001b[0;32m     41\u001b[0m \u001b[1;33m\u001b[0m\u001b[0m\n\u001b[0;32m     42\u001b[0m \u001b[1;33m\u001b[0m\u001b[0m\n",
      "\u001b[1;32m<ipython-input-83-4fe660c2ca9a>\u001b[0m in \u001b[0;36mget_data\u001b[1;34m(drv)\u001b[0m\n\u001b[0;32m     34\u001b[0m \u001b[1;33m\u001b[0m\u001b[0m\n\u001b[0;32m     35\u001b[0m \u001b[1;32mdef\u001b[0m \u001b[0mget_data\u001b[0m\u001b[1;33m(\u001b[0m\u001b[0mdrv\u001b[0m\u001b[1;33m)\u001b[0m\u001b[1;33m:\u001b[0m\u001b[1;33m\u001b[0m\u001b[1;33m\u001b[0m\u001b[0m\n\u001b[1;32m---> 36\u001b[1;33m     \u001b[0melement\u001b[0m\u001b[1;33m=\u001b[0m\u001b[0mdrv\u001b[0m\u001b[1;33m.\u001b[0m\u001b[0mfind_element_by_xpath\u001b[0m\u001b[1;33m(\u001b[0m\u001b[1;34m'//*[@id=\"messageArea\"]/div/text()'\u001b[0m\u001b[1;33m)\u001b[0m\u001b[1;33m\u001b[0m\u001b[1;33m\u001b[0m\u001b[0m\n\u001b[0m\u001b[0;32m     37\u001b[0m     \u001b[0mprint\u001b[0m\u001b[1;33m(\u001b[0m\u001b[0melement\u001b[0m\u001b[1;33m.\u001b[0m\u001b[0mtext\u001b[0m\u001b[1;33m)\u001b[0m\u001b[1;33m\u001b[0m\u001b[1;33m\u001b[0m\u001b[0m\n\u001b[0;32m     38\u001b[0m \u001b[1;33m\u001b[0m\u001b[0m\n",
      "\u001b[1;32mC:\\ProgramData\\Anaconda3\\lib\\site-packages\\selenium\\webdriver\\remote\\webdriver.py\u001b[0m in \u001b[0;36mfind_element_by_xpath\u001b[1;34m(self, xpath)\u001b[0m\n\u001b[0;32m    392\u001b[0m             \u001b[0melement\u001b[0m \u001b[1;33m=\u001b[0m \u001b[0mdriver\u001b[0m\u001b[1;33m.\u001b[0m\u001b[0mfind_element_by_xpath\u001b[0m\u001b[1;33m(\u001b[0m\u001b[1;34m'//div/td[1]'\u001b[0m\u001b[1;33m)\u001b[0m\u001b[1;33m\u001b[0m\u001b[1;33m\u001b[0m\u001b[0m\n\u001b[0;32m    393\u001b[0m         \"\"\"\n\u001b[1;32m--> 394\u001b[1;33m         \u001b[1;32mreturn\u001b[0m \u001b[0mself\u001b[0m\u001b[1;33m.\u001b[0m\u001b[0mfind_element\u001b[0m\u001b[1;33m(\u001b[0m\u001b[0mby\u001b[0m\u001b[1;33m=\u001b[0m\u001b[0mBy\u001b[0m\u001b[1;33m.\u001b[0m\u001b[0mXPATH\u001b[0m\u001b[1;33m,\u001b[0m \u001b[0mvalue\u001b[0m\u001b[1;33m=\u001b[0m\u001b[0mxpath\u001b[0m\u001b[1;33m)\u001b[0m\u001b[1;33m\u001b[0m\u001b[1;33m\u001b[0m\u001b[0m\n\u001b[0m\u001b[0;32m    395\u001b[0m \u001b[1;33m\u001b[0m\u001b[0m\n\u001b[0;32m    396\u001b[0m     \u001b[1;32mdef\u001b[0m \u001b[0mfind_elements_by_xpath\u001b[0m\u001b[1;33m(\u001b[0m\u001b[0mself\u001b[0m\u001b[1;33m,\u001b[0m \u001b[0mxpath\u001b[0m\u001b[1;33m)\u001b[0m\u001b[1;33m:\u001b[0m\u001b[1;33m\u001b[0m\u001b[1;33m\u001b[0m\u001b[0m\n",
      "\u001b[1;32mC:\\ProgramData\\Anaconda3\\lib\\site-packages\\selenium\\webdriver\\remote\\webdriver.py\u001b[0m in \u001b[0;36mfind_element\u001b[1;34m(self, by, value)\u001b[0m\n\u001b[0;32m    976\u001b[0m         return self.execute(Command.FIND_ELEMENT, {\n\u001b[0;32m    977\u001b[0m             \u001b[1;34m'using'\u001b[0m\u001b[1;33m:\u001b[0m \u001b[0mby\u001b[0m\u001b[1;33m,\u001b[0m\u001b[1;33m\u001b[0m\u001b[1;33m\u001b[0m\u001b[0m\n\u001b[1;32m--> 978\u001b[1;33m             'value': value})['value']\n\u001b[0m\u001b[0;32m    979\u001b[0m \u001b[1;33m\u001b[0m\u001b[0m\n\u001b[0;32m    980\u001b[0m     \u001b[1;32mdef\u001b[0m \u001b[0mfind_elements\u001b[0m\u001b[1;33m(\u001b[0m\u001b[0mself\u001b[0m\u001b[1;33m,\u001b[0m \u001b[0mby\u001b[0m\u001b[1;33m=\u001b[0m\u001b[0mBy\u001b[0m\u001b[1;33m.\u001b[0m\u001b[0mID\u001b[0m\u001b[1;33m,\u001b[0m \u001b[0mvalue\u001b[0m\u001b[1;33m=\u001b[0m\u001b[1;32mNone\u001b[0m\u001b[1;33m)\u001b[0m\u001b[1;33m:\u001b[0m\u001b[1;33m\u001b[0m\u001b[1;33m\u001b[0m\u001b[0m\n",
      "\u001b[1;32mC:\\ProgramData\\Anaconda3\\lib\\site-packages\\selenium\\webdriver\\remote\\webdriver.py\u001b[0m in \u001b[0;36mexecute\u001b[1;34m(self, driver_command, params)\u001b[0m\n\u001b[0;32m    319\u001b[0m         \u001b[0mresponse\u001b[0m \u001b[1;33m=\u001b[0m \u001b[0mself\u001b[0m\u001b[1;33m.\u001b[0m\u001b[0mcommand_executor\u001b[0m\u001b[1;33m.\u001b[0m\u001b[0mexecute\u001b[0m\u001b[1;33m(\u001b[0m\u001b[0mdriver_command\u001b[0m\u001b[1;33m,\u001b[0m \u001b[0mparams\u001b[0m\u001b[1;33m)\u001b[0m\u001b[1;33m\u001b[0m\u001b[1;33m\u001b[0m\u001b[0m\n\u001b[0;32m    320\u001b[0m         \u001b[1;32mif\u001b[0m \u001b[0mresponse\u001b[0m\u001b[1;33m:\u001b[0m\u001b[1;33m\u001b[0m\u001b[1;33m\u001b[0m\u001b[0m\n\u001b[1;32m--> 321\u001b[1;33m             \u001b[0mself\u001b[0m\u001b[1;33m.\u001b[0m\u001b[0merror_handler\u001b[0m\u001b[1;33m.\u001b[0m\u001b[0mcheck_response\u001b[0m\u001b[1;33m(\u001b[0m\u001b[0mresponse\u001b[0m\u001b[1;33m)\u001b[0m\u001b[1;33m\u001b[0m\u001b[1;33m\u001b[0m\u001b[0m\n\u001b[0m\u001b[0;32m    322\u001b[0m             response['value'] = self._unwrap_value(\n\u001b[0;32m    323\u001b[0m                 response.get('value', None))\n",
      "\u001b[1;32mC:\\ProgramData\\Anaconda3\\lib\\site-packages\\selenium\\webdriver\\remote\\errorhandler.py\u001b[0m in \u001b[0;36mcheck_response\u001b[1;34m(self, response)\u001b[0m\n\u001b[0;32m    240\u001b[0m                 \u001b[0malert_text\u001b[0m \u001b[1;33m=\u001b[0m \u001b[0mvalue\u001b[0m\u001b[1;33m[\u001b[0m\u001b[1;34m'alert'\u001b[0m\u001b[1;33m]\u001b[0m\u001b[1;33m.\u001b[0m\u001b[0mget\u001b[0m\u001b[1;33m(\u001b[0m\u001b[1;34m'text'\u001b[0m\u001b[1;33m)\u001b[0m\u001b[1;33m\u001b[0m\u001b[1;33m\u001b[0m\u001b[0m\n\u001b[0;32m    241\u001b[0m             \u001b[1;32mraise\u001b[0m \u001b[0mexception_class\u001b[0m\u001b[1;33m(\u001b[0m\u001b[0mmessage\u001b[0m\u001b[1;33m,\u001b[0m \u001b[0mscreen\u001b[0m\u001b[1;33m,\u001b[0m \u001b[0mstacktrace\u001b[0m\u001b[1;33m,\u001b[0m \u001b[0malert_text\u001b[0m\u001b[1;33m)\u001b[0m\u001b[1;33m\u001b[0m\u001b[1;33m\u001b[0m\u001b[0m\n\u001b[1;32m--> 242\u001b[1;33m         \u001b[1;32mraise\u001b[0m \u001b[0mexception_class\u001b[0m\u001b[1;33m(\u001b[0m\u001b[0mmessage\u001b[0m\u001b[1;33m,\u001b[0m \u001b[0mscreen\u001b[0m\u001b[1;33m,\u001b[0m \u001b[0mstacktrace\u001b[0m\u001b[1;33m)\u001b[0m\u001b[1;33m\u001b[0m\u001b[1;33m\u001b[0m\u001b[0m\n\u001b[0m\u001b[0;32m    243\u001b[0m \u001b[1;33m\u001b[0m\u001b[0m\n\u001b[0;32m    244\u001b[0m     \u001b[1;32mdef\u001b[0m \u001b[0m_value_or_default\u001b[0m\u001b[1;33m(\u001b[0m\u001b[0mself\u001b[0m\u001b[1;33m,\u001b[0m \u001b[0mobj\u001b[0m\u001b[1;33m,\u001b[0m \u001b[0mkey\u001b[0m\u001b[1;33m,\u001b[0m \u001b[0mdefault\u001b[0m\u001b[1;33m)\u001b[0m\u001b[1;33m:\u001b[0m\u001b[1;33m\u001b[0m\u001b[1;33m\u001b[0m\u001b[0m\n",
      "\u001b[1;31mNoSuchElementException\u001b[0m: Message: no such element: Unable to locate element: {\"method\":\"xpath\",\"selector\":\"//*[@id=\"messageArea\"]/div/text()\"}\n  (Session info: chrome=74.0.3729.157)\n  (Driver info: chromedriver=74.0.3729.6 (255758eccf3d244491b8a1317aa76e1ce10d57e9-refs/branch-heads/3729@{#29}),platform=Windows NT 10.0.14393 x86_64)\n"
     ]
    }
   ],
   "source": [
    "from selenium import webdriver\n",
    "from selenium.webdriver.common.keys import Keys\n",
    "\n",
    "drv = webdriver.Chrome(executable_path='/Users/CANOLUM/Desktop/PythonFiles/WebScraping/Drivers/chromedriver')\n",
    "drv.get('https://partnershealthcare.okta.com/login/login.htm?fromURI=%2Fapp%2Fpartnershealthcare_kronos_1%2Fexk9ys4r82rIJBm1x296%2Fsso%2Fsaml')\n",
    "\n",
    "#main_window = drv.current_window_handle\n",
    "\n",
    "#this part enters username\n",
    "xpath2= '//*[@id=\"okta-signin-username\"]'\n",
    "box = drv.find_element_by_xpath(xpath2)\n",
    "box.send_keys('MUC2')\n",
    "#box.submit()\n",
    "\n",
    "#this part enters password and submits by pressing ctrl+enter. you can also sumbit by using box2.submit()\n",
    "xpath3= '//*[@id=\"okta-signin-password\"]'\n",
    "box2=drv.find_element_by_xpath(xpath3)\n",
    "box2.send_keys('Eragon93')\n",
    "#box2.submit()\n",
    "box2.send_keys(Keys.CONTROL + Keys.RETURN)\n",
    "\n",
    "\n",
    "\n",
    "from selenium import webdriver\n",
    "from selenium.webdriver.common.by import By\n",
    "from selenium.webdriver.support.ui import WebDriverWait\n",
    "from selenium.webdriver.support import expected_conditions as EC\n",
    "from selenium.common.exceptions import TimeoutException\n",
    "\n",
    "def init_driver():\n",
    "    drv=webdriver.Chrome(executable_path='/Users/CANOLUM/Desktop/PythonFiles/WebScraping/Drivers/chromedriver')\n",
    "    drv.wait=WebDriverWait(5,drv)\n",
    "    return drv\n",
    "\n",
    "def get_data(drv):\n",
    "    element=drv.find_element_by_xpath('//*[@id=\"messageArea\"]/div/text()')\n",
    "    print(element.text)\n",
    "    \n",
    "drv = init_driver()\n",
    "get_data(drv)\n",
    "  \n",
    "\n",
    "    \n",
    "    "
   ]
  },
  {
   "cell_type": "code",
   "execution_count": 78,
   "metadata": {},
   "outputs": [
    {
     "ename": "NameError",
     "evalue": "name 'element' is not defined",
     "output_type": "error",
     "traceback": [
      "\u001b[1;31m---------------------------------------------------------------------------\u001b[0m",
      "\u001b[1;31mNameError\u001b[0m                                 Traceback (most recent call last)",
      "\u001b[1;32m<ipython-input-78-7c2186f626d0>\u001b[0m in \u001b[0;36m<module>\u001b[1;34m\u001b[0m\n\u001b[1;32m----> 1\u001b[1;33m \u001b[0melement\u001b[0m\u001b[1;33m\u001b[0m\u001b[1;33m\u001b[0m\u001b[0m\n\u001b[0m",
      "\u001b[1;31mNameError\u001b[0m: name 'element' is not defined"
     ]
    }
   ],
   "source": [
    "element"
   ]
  }
 ],
 "metadata": {
  "kernelspec": {
   "display_name": "Python 3",
   "language": "python",
   "name": "python3"
  }
 },
 "nbformat": 4,
 "nbformat_minor": 2
}
